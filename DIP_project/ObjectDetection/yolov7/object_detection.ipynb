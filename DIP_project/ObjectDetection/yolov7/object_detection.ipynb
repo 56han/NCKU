{
 "cells": [
  {
   "cell_type": "markdown",
   "metadata": {},
   "source": [
    "# YOLOv7 腮腺檢測"
   ]
  },
  {
   "cell_type": "markdown",
   "metadata": {},
   "source": [
    "## 資料前處理"
   ]
  },
  {
   "cell_type": "markdown",
   "metadata": {},
   "source": [
    "先複製一份資料集至```./data```"
   ]
  },
  {
   "cell_type": "code",
   "execution_count": 1,
   "metadata": {},
   "outputs": [],
   "source": [
    "import os\n",
    "\n",
    "dataset_path = \"./data/data_20231207/\"\n",
    "test_dataset_path = \"./data/demo_test9/\"\n",
    "new_dataset_path = \"./data/newdataset/\"\n",
    "\n",
    "images_path = os.path.join(new_dataset_path, \"images\")\n",
    "images_train_path = os.path.join(images_path, \"train\")\n",
    "images_val_path = os.path.join(images_path, \"val\")\n",
    "images_test_path = os.path.join(images_path, \"test\")\n",
    "\n",
    "labels_path = os.path.join(new_dataset_path, \"labels\")\n",
    "labels_train_path = os.path.join(labels_path, \"train\")\n",
    "labels_val_path = os.path.join(labels_path, \"val\")\n",
    "labels_test_path = os.path.join(labels_path, \"test\")\n",
    "\n",
    "\n",
    "for path in [\n",
    "    new_dataset_path,\n",
    "    images_path,\n",
    "    images_train_path,\n",
    "    images_val_path,\n",
    "    images_test_path,\n",
    "    labels_path,\n",
    "    labels_train_path,\n",
    "    labels_val_path,\n",
    "    labels_test_path,\n",
    "]:\n",
    "    if not os.path.exists(path):\n",
    "        os.mkdir(path)"
   ]
  },
  {
   "cell_type": "markdown",
   "metadata": {},
   "source": [
    "### 將 annotation 從 json 轉 txt"
   ]
  },
  {
   "cell_type": "markdown",
   "metadata": {},
   "source": [
    "[轉換原理說明](https://hackmd.io/dEAIfI_hS4mG25OPhEK9JQ?both#%E8%B3%87%E6%96%99%E6%A0%BC%E5%BC%8F%E8%BD%89%E6%8F%9B-LablemeJson--gt-YOLOtxt)"
   ]
  },
  {
   "cell_type": "code",
   "execution_count": 2,
   "metadata": {},
   "outputs": [
    {
     "name": "stdout",
     "output_type": "stream",
     "text": [
      "./data/data_20231207/Cancer: 100 annotations\n",
      "./data/data_20231207/Mix: 100 annotations\n",
      "./data/data_20231207/Warthin: 100 annotations\n",
      "./data/demo_test9/: 9 annotations\n"
     ]
    }
   ],
   "source": [
    "from json2txt import json2txt\n",
    "\n",
    "# json2txt(json_dir, txt_dir)\n",
    "json_path = [os.path.join(dataset_path, \"Cancer\"), os.path.join(dataset_path, \"Mix\"), os.path.join(dataset_path, \"Warthin\"), test_dataset_path]\n",
    "for path in json_path:\n",
    "    json2txt(path)"
   ]
  },
  {
   "cell_type": "markdown",
   "metadata": {},
   "source": [
    "### 以YOLO架構切分Train、Val、Test資料集"
   ]
  },
  {
   "cell_type": "code",
   "execution_count": 12,
   "metadata": {},
   "outputs": [],
   "source": [
    "# 若沒安裝過 scikit-learn 則執行下面這行\n",
    "# ! pip install -U scikit-learn"
   ]
  },
  {
   "cell_type": "markdown",
   "metadata": {},
   "source": [
    "#### Train、Val資料集"
   ]
  },
  {
   "cell_type": "code",
   "execution_count": 3,
   "metadata": {},
   "outputs": [
    {
     "name": "stdout",
     "output_type": "stream",
     "text": [
      "Total: 300 images\n",
      "Train: 240 images\n",
      "Val: 60 images\n"
     ]
    }
   ],
   "source": [
    "from sklearn.model_selection import train_test_split\n",
    "import os\n",
    "from glob import glob\n",
    "\n",
    "all_image_path = glob(os.path.join(dataset_path, \"*\", \"*.png\"))  # image_path/*/*.png\n",
    "print(f\"Total: {len(all_image_path)} images\")\n",
    "all_annotation_path = [os.path.splitext(x)[0] + \".txt\" for x in all_image_path]\n",
    "\n",
    "X_train, X_val, y_train, y_val = train_test_split(all_image_path, all_annotation_path, test_size=0.2, random_state=42)\n",
    "print(f\"Train: {len(X_train)} images\")\n",
    "print(f\"Val: {len(X_val)} images\")\n"
   ]
  },
  {
   "cell_type": "code",
   "execution_count": 4,
   "metadata": {},
   "outputs": [],
   "source": [
    "import shutil\n",
    "\n",
    "for x, y in zip(X_train, y_train):\n",
    "    shutil.copy(x, images_train_path)\n",
    "    shutil.copy(y, labels_train_path)\n",
    "\n",
    "for x, y in zip(X_val, y_val):\n",
    "    shutil.copy(x, images_val_path)\n",
    "    shutil.copy(y, labels_val_path)\n"
   ]
  },
  {
   "cell_type": "markdown",
   "metadata": {},
   "source": [
    "#### Test 資料集"
   ]
  },
  {
   "cell_type": "code",
   "execution_count": 5,
   "metadata": {},
   "outputs": [
    {
     "name": "stdout",
     "output_type": "stream",
     "text": [
      "Test: 9 images\n"
     ]
    }
   ],
   "source": [
    "all_test_image_path = glob(os.path.join(test_dataset_path, \"*.png\"))\n",
    "all_test_annotation_path = [os.path.splitext(x)[0] + \".txt\" for x in all_test_image_path]\n",
    "print(f\"Test: {len(all_test_image_path)} images\")\n",
    "\n",
    "for x, y in zip(all_test_image_path, all_test_annotation_path):\n",
    "    shutil.copy(x, images_test_path)\n",
    "    shutil.copy(y, labels_test_path)"
   ]
  },
  {
   "cell_type": "markdown",
   "metadata": {},
   "source": [
    "### 刪除 .txt(若路徑打錯)"
   ]
  },
  {
   "cell_type": "code",
   "execution_count": 3,
   "metadata": {},
   "outputs": [],
   "source": [
    "# import os\n",
    "# from glob import glob\n",
    "\n",
    "# # del_path = test_label_path  # modify this path to delete the txt files, label_path or test_label_path\n",
    "# del_path = r\"C:\\Users\\Xsheep\\Desktop\\FinalProject\\demo_test9\"\n",
    "# del_txt = glob(os.path.join(del_path, \"*.txt\"))\n",
    "# for txt in del_txt:\n",
    "#     os.remove(txt)"
   ]
  },
  {
   "cell_type": "markdown",
   "metadata": {},
   "source": [
    "## 訓練Model"
   ]
  },
  {
   "cell_type": "markdown",
   "metadata": {},
   "source": [
    "先到github下載[`yolov7_training.pt`](https://github.com/WongKinYiu/yolov7/releases/download/v0.1/yolov7_training.pt)"
   ]
  },
  {
   "cell_type": "markdown",
   "metadata": {},
   "source": [
    "用 Terminal 執行以下命令(在jupyternotenook會看不到進度條)"
   ]
  },
  {
   "cell_type": "code",
   "execution_count": 1,
   "metadata": {},
   "outputs": [],
   "source": [
    "! python train.py --workers 8 --device 0 --batch-size 32 --epochs 300 --img 640 640 --data ./data/data_20231207.yaml --hyp ./data/hyp.scratch.custom.yaml --cfg ./cfg/training/yolov7_custom.yaml --weights 'yolov7_training.pt'"
   ]
  },
  {
   "cell_type": "markdown",
   "metadata": {},
   "source": [
    "## Test"
   ]
  },
  {
   "cell_type": "markdown",
   "metadata": {},
   "source": [
    "[更改`detect.py`](https://hackmd.io/dEAIfI_hS4mG25OPhEK9JQ?both#Yolo%E7%9A%84-Detectpy-%E7%95%AB-Bounding-box)"
   ]
  },
  {
   "cell_type": "markdown",
   "metadata": {},
   "source": [
    "`--name exp`要改成該次exp的名字"
   ]
  },
  {
   "cell_type": "code",
   "execution_count": null,
   "metadata": {},
   "outputs": [],
   "source": [
    "# ! python mydetect.py --weights runs/train/nofliplr/weights/best.pt --conf-thres 0.4  --iou-thres 0.5 --source data/newdataset/images/test --device 0 --save-txt --save-conf --agnostic-nms"
   ]
  },
  {
   "cell_type": "code",
   "execution_count": null,
   "metadata": {},
   "outputs": [],
   "source": [
    "! python mydetect.py --weights runs/train/nofliplr/weights/best.pt --conf-thres 0.5  --iou-thres 0.45 --source data/newdataset/images/test --device 0 --save-txt --save-conf"
   ]
  }
 ],
 "metadata": {
  "kernelspec": {
   "display_name": "IP",
   "language": "python",
   "name": "python3"
  },
  "language_info": {
   "codemirror_mode": {
    "name": "ipython",
    "version": 3
   },
   "file_extension": ".py",
   "mimetype": "text/x-python",
   "name": "python",
   "nbconvert_exporter": "python",
   "pygments_lexer": "ipython3",
   "version": "3.10.13"
  }
 },
 "nbformat": 4,
 "nbformat_minor": 2
}
